{
 "cells": [
  {
   "cell_type": "code",
   "execution_count": 1,
   "metadata": {
    "collapsed": false
   },
   "outputs": [],
   "source": [
    "import pyspark\n",
    "from pyspark.sql import HiveContext"
   ]
  },
  {
   "cell_type": "code",
   "execution_count": 2,
   "metadata": {
    "collapsed": false
   },
   "outputs": [],
   "source": [
    "sc\n",
    "sqlContext = HiveContext(sc)\n",
    "bus_file='test*.jsons'\n",
    "bus = sqlContext.read.json(bus_file)\n",
    "bus.registerTempTable(\"bus\")"
   ]
  },
  {
   "cell_type": "code",
   "execution_count": 3,
   "metadata": {
    "collapsed": true
   },
   "outputs": [],
   "source": [
    "bus.registerTempTable(\"bus\")"
   ]
  },
  {
   "cell_type": "code",
   "execution_count": 4,
   "metadata": {
    "collapsed": false
   },
   "outputs": [
    {
     "name": "stdout",
     "output_type": "stream",
     "text": [
      "root\n",
      " |-- Siri: struct (nullable = true)\n",
      " |    |-- ServiceDelivery: struct (nullable = true)\n",
      " |    |    |-- ResponseTimestamp: string (nullable = true)\n",
      " |    |    |-- SituationExchangeDelivery: array (nullable = true)\n",
      " |    |    |    |-- element: struct (containsNull = true)\n",
      " |    |    |    |    |-- Situations: struct (nullable = true)\n",
      " |    |    |    |    |    |-- PtSituationElement: array (nullable = true)\n",
      " |    |    |    |    |    |    |-- element: struct (containsNull = true)\n",
      " |    |    |    |    |    |    |    |-- Affects: struct (nullable = true)\n",
      " |    |    |    |    |    |    |    |    |-- VehicleJourneys: struct (nullable = true)\n",
      " |    |    |    |    |    |    |    |    |    |-- AffectedVehicleJourney: array (nullable = true)\n",
      " |    |    |    |    |    |    |    |    |    |    |-- element: struct (containsNull = true)\n",
      " |    |    |    |    |    |    |    |    |    |    |    |-- DirectionRef: string (nullable = true)\n",
      " |    |    |    |    |    |    |    |    |    |    |    |-- LineRef: string (nullable = true)\n",
      " |    |    |    |    |    |    |    |-- Consequences: struct (nullable = true)\n",
      " |    |    |    |    |    |    |    |    |-- Consequence: array (nullable = true)\n",
      " |    |    |    |    |    |    |    |    |    |-- element: struct (containsNull = true)\n",
      " |    |    |    |    |    |    |    |    |    |    |-- Condition: string (nullable = true)\n",
      " |    |    |    |    |    |    |    |-- CreationTime: string (nullable = true)\n",
      " |    |    |    |    |    |    |    |-- Description: string (nullable = true)\n",
      " |    |    |    |    |    |    |    |-- PublicationWindow: struct (nullable = true)\n",
      " |    |    |    |    |    |    |    |    |-- EndTime: string (nullable = true)\n",
      " |    |    |    |    |    |    |    |    |-- StartTime: string (nullable = true)\n",
      " |    |    |    |    |    |    |    |-- Severity: string (nullable = true)\n",
      " |    |    |    |    |    |    |    |-- SituationNumber: string (nullable = true)\n",
      " |    |    |    |    |    |    |    |-- Summary: string (nullable = true)\n",
      " |    |    |-- VehicleMonitoringDelivery: array (nullable = true)\n",
      " |    |    |    |-- element: struct (containsNull = true)\n",
      " |    |    |    |    |-- ResponseTimestamp: string (nullable = true)\n",
      " |    |    |    |    |-- ValidUntil: string (nullable = true)\n",
      " |    |    |    |    |-- VehicleActivity: array (nullable = true)\n",
      " |    |    |    |    |    |-- element: struct (containsNull = true)\n",
      " |    |    |    |    |    |    |-- MonitoredVehicleJourney: struct (nullable = true)\n",
      " |    |    |    |    |    |    |    |-- Bearing: double (nullable = true)\n",
      " |    |    |    |    |    |    |    |-- BlockRef: string (nullable = true)\n",
      " |    |    |    |    |    |    |    |-- DestinationName: string (nullable = true)\n",
      " |    |    |    |    |    |    |    |-- DestinationRef: string (nullable = true)\n",
      " |    |    |    |    |    |    |    |-- DirectionRef: string (nullable = true)\n",
      " |    |    |    |    |    |    |    |-- FramedVehicleJourneyRef: struct (nullable = true)\n",
      " |    |    |    |    |    |    |    |    |-- DataFrameRef: string (nullable = true)\n",
      " |    |    |    |    |    |    |    |    |-- DatedVehicleJourneyRef: string (nullable = true)\n",
      " |    |    |    |    |    |    |    |-- JourneyPatternRef: string (nullable = true)\n",
      " |    |    |    |    |    |    |    |-- LineRef: string (nullable = true)\n",
      " |    |    |    |    |    |    |    |-- Monitored: boolean (nullable = true)\n",
      " |    |    |    |    |    |    |    |-- MonitoredCall: struct (nullable = true)\n",
      " |    |    |    |    |    |    |    |    |-- ExpectedArrivalTime: string (nullable = true)\n",
      " |    |    |    |    |    |    |    |    |-- ExpectedDepartureTime: string (nullable = true)\n",
      " |    |    |    |    |    |    |    |    |-- Extensions: struct (nullable = true)\n",
      " |    |    |    |    |    |    |    |    |    |-- Distances: struct (nullable = true)\n",
      " |    |    |    |    |    |    |    |    |    |    |-- CallDistanceAlongRoute: double (nullable = true)\n",
      " |    |    |    |    |    |    |    |    |    |    |-- DistanceFromCall: double (nullable = true)\n",
      " |    |    |    |    |    |    |    |    |    |    |-- PresentableDistance: string (nullable = true)\n",
      " |    |    |    |    |    |    |    |    |    |    |-- StopsFromCall: long (nullable = true)\n",
      " |    |    |    |    |    |    |    |    |-- StopPointName: string (nullable = true)\n",
      " |    |    |    |    |    |    |    |    |-- StopPointRef: string (nullable = true)\n",
      " |    |    |    |    |    |    |    |    |-- VisitNumber: long (nullable = true)\n",
      " |    |    |    |    |    |    |    |-- OnwardCalls: struct (nullable = true)\n",
      " |    |    |    |    |    |    |    |    |-- OnwardCall: array (nullable = true)\n",
      " |    |    |    |    |    |    |    |    |    |-- element: struct (containsNull = true)\n",
      " |    |    |    |    |    |    |    |    |    |    |-- ExpectedArrivalTime: string (nullable = true)\n",
      " |    |    |    |    |    |    |    |    |    |    |-- ExpectedDepartureTime: string (nullable = true)\n",
      " |    |    |    |    |    |    |    |    |    |    |-- Extensions: struct (nullable = true)\n",
      " |    |    |    |    |    |    |    |    |    |    |    |-- Distances: struct (nullable = true)\n",
      " |    |    |    |    |    |    |    |    |    |    |    |    |-- CallDistanceAlongRoute: double (nullable = true)\n",
      " |    |    |    |    |    |    |    |    |    |    |    |    |-- DistanceFromCall: double (nullable = true)\n",
      " |    |    |    |    |    |    |    |    |    |    |    |    |-- PresentableDistance: string (nullable = true)\n",
      " |    |    |    |    |    |    |    |    |    |    |    |    |-- StopsFromCall: long (nullable = true)\n",
      " |    |    |    |    |    |    |    |    |    |    |-- StopPointName: string (nullable = true)\n",
      " |    |    |    |    |    |    |    |    |    |    |-- StopPointRef: string (nullable = true)\n",
      " |    |    |    |    |    |    |    |    |    |    |-- VisitNumber: long (nullable = true)\n",
      " |    |    |    |    |    |    |    |-- OperatorRef: string (nullable = true)\n",
      " |    |    |    |    |    |    |    |-- OriginAimedDepartureTime: string (nullable = true)\n",
      " |    |    |    |    |    |    |    |-- OriginRef: string (nullable = true)\n",
      " |    |    |    |    |    |    |    |-- ProgressRate: string (nullable = true)\n",
      " |    |    |    |    |    |    |    |-- ProgressStatus: string (nullable = true)\n",
      " |    |    |    |    |    |    |    |-- PublishedLineName: string (nullable = true)\n",
      " |    |    |    |    |    |    |    |-- SituationRef: array (nullable = true)\n",
      " |    |    |    |    |    |    |    |    |-- element: struct (containsNull = true)\n",
      " |    |    |    |    |    |    |    |    |    |-- SituationSimpleRef: string (nullable = true)\n",
      " |    |    |    |    |    |    |    |-- VehicleLocation: struct (nullable = true)\n",
      " |    |    |    |    |    |    |    |    |-- Latitude: double (nullable = true)\n",
      " |    |    |    |    |    |    |    |    |-- Longitude: double (nullable = true)\n",
      " |    |    |    |    |    |    |    |-- VehicleRef: string (nullable = true)\n",
      " |    |    |    |    |    |    |-- RecordedAtTime: string (nullable = true)\n",
      "\n"
     ]
    }
   ],
   "source": [
    "bus.printSchema()"
   ]
  },
  {
   "cell_type": "code",
   "execution_count": 5,
   "metadata": {
    "collapsed": false
   },
   "outputs": [],
   "source": [
    "with open(\"test.sql\") as fr:\n",
    "     query = fr.read()"
   ]
  },
  {
   "cell_type": "code",
   "execution_count": 6,
   "metadata": {
    "collapsed": false,
    "scrolled": true
   },
   "outputs": [],
   "source": [
    "output = sqlContext.sql(query)"
   ]
  },
  {
   "cell_type": "code",
   "execution_count": null,
   "metadata": {
    "collapsed": false
   },
   "outputs": [],
   "source": [
    "output.show(1)"
   ]
  },
  {
   "cell_type": "code",
   "execution_count": null,
   "metadata": {
    "collapsed": false
   },
   "outputs": [],
   "source": [
    "import itertools\n",
    "def extract(parts):\n",
    "    for p in parts:\n",
    "        for o in itertools.izip(p.Line,p.Latitude,p.Longitude,p.RecordedAtTime,p.vehicleID,p.Trip,p.TripDate):\n",
    "            yield o\n",
    "\n",
    "output.mapPartitions(extract).take(10)"
   ]
  },
  {
   "cell_type": "code",
   "execution_count": 7,
   "metadata": {
    "collapsed": false
   },
   "outputs": [],
   "source": [
    "def parse_list(p):\n",
    "    if p.Line!=None:\n",
    "        return zip(p.Line,p.Latitude,p.Longitude,p.RecordedAtTime,p.vehicleID,p.Trip,p.TripDate,p.TripPattern,p.MonitoredCallRef,p.EstCallArrival,p.DistFromCall,p.CallDistAlongRoute,p.PresentableDistance)\n",
    "    else:\n",
    "        return []"
   ]
  },
  {
   "cell_type": "code",
   "execution_count": 23,
   "metadata": {
    "collapsed": false
   },
   "outputs": [
    {
     "name": "stdout",
     "output_type": "stream",
     "text": [
      "1.64649987221\n"
     ]
    }
   ],
   "source": [
    "import time\n",
    "start = time.time()\n",
    "\n",
    "a = output.flatMap(parse_list)\n",
    "sqlContext.createDataFrame(a).take(10)\n",
    "end = time.time()\n",
    "print end-start"
   ]
  },
  {
   "cell_type": "code",
   "execution_count": 19,
   "metadata": {
    "collapsed": false
   },
   "outputs": [
    {
     "name": "stdout",
     "output_type": "stream",
     "text": [
      "+--------------+---------+----------+--------------------+-------------+--------------------+----------+-------------+----------+--------------------+------+--------+--------------+\n",
      "|            _1|       _2|        _3|                  _4|           _5|                  _6|        _7|           _8|        _9|                 _10|   _11|     _12|           _13|\n",
      "+--------------+---------+----------+--------------------+-------------+--------------------+----------+-------------+----------+--------------------+------+--------+--------------+\n",
      "|  MTA NYCT_Q76|40.753476|-73.780631|2015-12-30T18:59:...|MTA NYCT_7424|MTA NYCT_CS_W5-We...|2015-12-30|  MTA_Q760118|MTA_502697|2015-12-30T19:00:...| 16.14| 7903.95|       at stop|\n",
      "|  MTA NYCT_B67|40.664322|-73.983724|2015-12-30T18:59:...| MTA NYCT_406|MTA NYCT_JG_W5-We...|2015-12-30|  MTA_B670106|MTA_305679|2015-12-30T19:00:...| 12.05|  8002.2|       at stop|\n",
      "|   MTA NYCT_B8|40.635277|-73.960583|2015-12-30T19:00:...| MTA NYCT_430|MTA NYCT_JG_W5-We...|2015-12-30|   MTA_B80112|MTA_300826|2015-12-30T19:00:...| 53.94| 7518.28|   approaching|\n",
      "|  MTA NYCT_S91|40.590805|-74.158344|2015-12-30T19:00:...|MTA NYCT_8263|MTA NYCT_YU_E5-We...|2015-12-30|  MTA_S910030|MTA_202720|2015-12-30T19:00:...| 61.67|11850.88|   approaching|\n",
      "|  MTA NYCT_Q43|40.709557|-73.796306|2015-12-30T18:59:...|MTA NYCT_6449|MTA NYCT_QV_W5-We...|2015-12-30|  MTA_Q430115|MTA_502132|2015-12-30T19:01:...|231.86| 9111.41| < 1 stop away|\n",
      "|  MTA NYCT_BX5|40.837627|-73.825863|2015-12-30T18:59:...|MTA NYCT_5761|MTA NYCT_GH_W5-We...|2015-12-30| MTA_BX050326|MTA_100328|2015-12-30T19:00:...| 54.53| 1678.17|   approaching|\n",
      "|  MTA NYCT_Q17|40.761881| -73.82969|2015-12-30T18:59:...|MTA NYCT_8422|MTA NYCT_JA_W5-We...|2015-12-30|  MTA_Q170220|MTA_501368|                null|348.51|  361.42| < 1 stop away|\n",
      "|MTA NYCT_BX41+|40.830642|-73.910542|2015-12-30T19:00:...|MTA NYCT_5781|MTA NYCT_KB_W5-We...|2015-12-30|MTA_SBS410038|MTA_102287|2015-12-30T19:00:...|  49.4| 1851.29|   approaching|\n",
      "|  MTA NYCT_Q88|40.738192|-73.806908|2015-12-30T18:59:...|MTA NYCT_8024|MTA NYCT_QV_W5-We...|2015-12-30|  MTA_Q880157|MTA_501387|2015-12-30T19:00:...| 59.51| 5877.94|   approaching|\n",
      "|   MTA NYCT_Q2|40.706824|-73.753472|2015-12-30T18:59:...|MTA NYCT_8484|MTA NYCT_QV_W5-We...|2015-12-30|  MTA_Q020061|MTA_500136|2015-12-30T19:00:...|155.37| 2432.22| < 1 stop away|\n",
      "|  MTA NYCT_B54|40.694126|-73.987185|2015-12-30T18:59:...|MTA NYCT_6546|MTA NYCT_FP_W5-We...|2015-12-30|  MTA_B540063|MTA_801134|2015-12-30T19:00:...| 40.71| 6820.65|   approaching|\n",
      "| MTA NYCT_M34+| 40.74387|-73.973719|2015-12-30T18:59:...|MTA NYCT_5846|MTA NYCT_MQ_W5-We...|2015-12-30|  MTA_M340053|MTA_404950|2015-12-30T19:00:...|  4.25|  2913.9|       at stop|\n",
      "|  MTA NYCT_M31|  40.7621|-73.971915|2015-12-30T18:59:...|MTA NYCT_3809|MTA NYCT_MQ_W5-We...|2015-12-30|  MTA_M310141|MTA_403620|2015-12-30T19:00:...|  1.88| 2030.37|       at stop|\n",
      "|  MTA NYCT_BX6|40.835896|-73.948654|2015-12-30T18:59:...|MTA NYCT_7676|MTA NYCT_WF_W5-We...|2015-12-30| MTA_BX060135|MTA_803062|2015-12-30T19:00:...| 36.46| 7851.61|   approaching|\n",
      "|   MTA NYCT_X7|40.761556|-73.982925|2015-12-30T19:00:...|MTA NYCT_2520|MTA NYCT_YU_E5-We...|2015-12-30|   MTA_X70142|MTA_404873|2015-12-30T19:11:...|842.23| 1663.61|0.5 miles away|\n",
      "|  MTA NYCT_B37| 40.68512| -73.98084|2015-12-30T19:00:...| MTA NYCT_453|MTA NYCT_JG_W5-We...|2015-12-30|  MTA_B370037|MTA_901484|2015-12-30T19:00:...|122.84| 9721.58|   approaching|\n",
      "|  MTA NYCT_Q16|40.788787|-73.784621|2015-12-30T18:59:...|MTA NYCT_4198|MTA NYCT_CS_W5-We...|2015-12-30|  MTA_Q160458|MTA_501270|2015-12-30T19:00:...|  4.24| 7143.94|       at stop|\n",
      "|  MTA NYCT_M23|40.748858|-74.008077|2015-12-30T18:59:...|MTA NYCT_5527|MTA NYCT_MQ_W5-We...|2015-12-30|  MTA_M230031|MTA_404137|                null| 14.55|     0.0|       at stop|\n",
      "|  MTA NYCT_BX9|40.868599|-73.902092|2015-12-30T18:59:...|MTA NYCT_4710|MTA NYCT_KB_W5-We...|2015-12-30| MTA_BX090098|MTA_100164|2015-12-30T19:01:...|166.99| 5293.12| < 1 stop away|\n",
      "|   MTA NYCT_Q2|40.709681|-73.768534|2015-12-30T18:59:...|MTA NYCT_6429|MTA NYCT_QV_W5-We...|2015-12-30|  MTA_Q020070|MTA_500102|2015-12-30T19:00:...| 123.0| 3325.17|   approaching|\n",
      "+--------------+---------+----------+--------------------+-------------+--------------------+----------+-------------+----------+--------------------+------+--------+--------------+\n",
      "only showing top 20 rows\n",
      "\n"
     ]
    }
   ],
   "source": [
    "from time import  \n",
    "sqlContext.createDataFrame(a)"
   ]
  },
  {
   "cell_type": "code",
   "execution_count": 16,
   "metadata": {
    "collapsed": false
   },
   "outputs": [
    {
     "data": {
      "text/plain": [
       "DataFrame[_1: string, _2: double, _3: double, _4: string, _5: string, _6: string, _7: string, _8: string, _9: string, _10: string, _11: double, _12: double, _13: string]"
      ]
     },
     "execution_count": 16,
     "metadata": {},
     "output_type": "execute_result"
    }
   ],
   "source": [
    "new"
   ]
  },
  {
   "cell_type": "code",
   "execution_count": null,
   "metadata": {
    "collapsed": false
   },
   "outputs": [],
   "source": [
    "p = zip(output.select('Line'),output.select('Latitude'),output.select('Longitude'),output.select('RecordedAtTime'),output.select('vehicleID'),output.select('Trip'),output.select('TripDate'))"
   ]
  },
  {
   "cell_type": "code",
   "execution_count": null,
   "metadata": {
    "collapsed": false
   },
   "outputs": [],
   "source": [
    "a.take(10)"
   ]
  },
  {
   "cell_type": "code",
   "execution_count": null,
   "metadata": {
    "collapsed": false
   },
   "outputs": [],
   "source": [
    "#output_df = output1.toDF(['Line','Lat','Lon','Recordtime','ID','Trip','TripDate'])"
   ]
  },
  {
   "cell_type": "code",
   "execution_count": null,
   "metadata": {
    "collapsed": false
   },
   "outputs": [],
   "source": [
    "#output_df.show()"
   ]
  },
  {
   "cell_type": "code",
   "execution_count": null,
   "metadata": {
    "collapsed": true
   },
   "outputs": [],
   "source": []
  }
 ],
 "metadata": {
  "kernelspec": {
   "display_name": "Python 2",
   "language": "python",
   "name": "python2"
  },
  "language_info": {
   "codemirror_mode": {
    "name": "ipython",
    "version": 2
   },
   "file_extension": ".py",
   "mimetype": "text/x-python",
   "name": "python",
   "nbconvert_exporter": "python",
   "pygments_lexer": "ipython2",
   "version": "2.7.11"
  }
 },
 "nbformat": 4,
 "nbformat_minor": 0
}
